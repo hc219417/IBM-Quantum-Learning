{
 "cells": [
  {
   "cell_type": "code",
   "execution_count": 1,
   "id": "75b52447-e1af-4a98-96ca-037c7dc85c20",
   "metadata": {
    "tags": []
   },
   "outputs": [],
   "source": [
    "from qiskit import QuantumRegister, ClassicalRegister, QuantumCircuit, execute, Aer\n",
    "from random import randrange"
   ]
  },
  {
   "cell_type": "code",
   "execution_count": 2,
   "id": "6cb9c634-b795-47b1-9e55-e0b13eb1284f",
   "metadata": {
    "tags": []
   },
   "outputs": [
    {
     "data": {
      "image/png": "[encoded data removed]",
      "text/plain": [
       "<Figure size 287.294x200.667 with 1 Axes>"
      ]
     },
     "metadata": {},
     "output_type": "display_data"
    }
   ],
   "source": [
    "qc_phiplus = QuantumCircuit(2)\n",
    "\n",
    "qc_phiplus.h(0)\n",
    "qc_phiplus.cx(0,1)\n",
    "\n",
    "display(qc_phiplus.draw(output='mpl'))"
   ]
  },
  {
   "cell_type": "code",
   "execution_count": 3,
   "id": "b1543da5-e3c0-4617-9b13-3f3491c54503",
   "metadata": {
    "tags": []
   },
   "outputs": [
    {
     "name": "stdout",
     "output_type": "stream",
     "text": [
      "Statevector:\n",
      "Statevector([0.70710678+0.j, 0.        +0.j, 0.        +0.j,\n",
      "             0.70710678+0.j],\n",
      "            dims=(2, 2))\n"
     ]
    }
   ],
   "source": [
    "simulator = Aer.get_backend('statevector_simulator')\n",
    "job = execute(qc_phiplus, simulator)\n",
    "result = job.result()\n",
    "statevector = result.get_statevector()\n",
    "# Print the statevector\n",
    "print(\"Statevector:\")\n",
    "print(statevector)"
   ]
  },
  {
   "cell_type": "code",
   "execution_count": 4,
   "id": "494519b5-83ee-4fa4-af8a-146877c29be2",
   "metadata": {
    "tags": []
   },
   "outputs": [
    {
     "data": {
      "image/png": "[encoded data removed]",
      "text/plain": [
       "<Figure size 370.906x200.667 with 1 Axes>"
      ]
     },
     "metadata": {},
     "output_type": "display_data"
    }
   ],
   "source": [
    "qc_phiminus = QuantumCircuit(2)\n",
    "\n",
    "qc_phiminus.x(0)\n",
    "qc_phiminus.h(0)\n",
    "qc_phiminus.cx(0,1)\n",
    "\n",
    "display(qc_phiminus.draw(output='mpl'))"
   ]
  },
  {
   "cell_type": "code",
   "execution_count": 5,
   "id": "51fd9f9e-a046-4a08-9c98-70abc329b168",
   "metadata": {
    "tags": []
   },
   "outputs": [
    {
     "name": "stdout",
     "output_type": "stream",
     "text": [
      "Statevector:\n",
      "Statevector([ 0.70710678+0.00000000e+00j,  0.        +0.00000000e+00j,\n",
      "              0.        +0.00000000e+00j, -0.70710678-8.65956056e-17j],\n",
      "            dims=(2, 2))\n"
     ]
    }
   ],
   "source": [
    "simulator = Aer.get_backend('statevector_simulator')\n",
    "job = execute(qc_phiminus, simulator)\n",
    "result = job.result()\n",
    "statevector = result.get_statevector()\n",
    "# Print the statevector\n",
    "print(\"Statevector:\")\n",
    "print(statevector)"
   ]
  },
  {
   "cell_type": "code",
   "execution_count": 6,
   "id": "bdee7348-6479-47b7-998c-d767727fa36a",
   "metadata": {
    "tags": []
   },
   "outputs": [
    {
     "data": {
      "image/png": "[encoded data removed]",
      "text/plain": [
       "<Figure size 287.294x200.667 with 1 Axes>"
      ]
     },
     "metadata": {},
     "output_type": "display_data"
    }
   ],
   "source": [
    "qc_psiplus = QuantumCircuit(2)\n",
    "\n",
    "qc_psiplus.h(0)\n",
    "qc_psiplus.x(1)\n",
    "qc_psiplus.cx(0,1)\n",
    "\n",
    "display(qc_psiplus.draw(output='mpl'))"
   ]
  },
  {
   "cell_type": "code",
   "execution_count": 7,
   "id": "88375bb8-783e-4263-8f0e-e1b2f3ef8aa9",
   "metadata": {
    "tags": []
   },
   "outputs": [
    {
     "name": "stdout",
     "output_type": "stream",
     "text": [
      "Statevector:\n",
      "Statevector([0.        +0.j, 0.70710678+0.j, 0.70710678+0.j,\n",
      "             0.        +0.j],\n",
      "            dims=(2, 2))\n"
     ]
    }
   ],
   "source": [
    "simulator = Aer.get_backend('statevector_simulator')\n",
    "job = execute(qc_psiplus, simulator)\n",
    "result = job.result()\n",
    "statevector = result.get_statevector()\n",
    "# Print the statevector\n",
    "print(\"Statevector:\")\n",
    "print(statevector)"
   ]
  },
  {
   "cell_type": "code",
   "execution_count": 8,
   "id": "1aa45395-acd2-4c72-b75b-05ddd7961198",
   "metadata": {
    "tags": []
   },
   "outputs": [
    {
     "data": {
      "image/png": "[encoded data removed]",
      "text/plain": [
       "<Figure size 370.906x200.667 with 1 Axes>"
      ]
     },
     "metadata": {},
     "output_type": "display_data"
    }
   ],
   "source": [
    "qc_psiminus = QuantumCircuit(2)\n",
    "\n",
    "# qc_psiminus.h(0)\n",
    "# qc_psiminus.x(1)\n",
    "# qc_psiminus.z(0)\n",
    "# qc_psiminus.z(1)\n",
    "# qc_psiminus.cx(0,1)\n",
    "\n",
    "qc_psiminus.x(0)\n",
    "qc_psiminus.x(1)\n",
    "qc_psiminus.h(0)\n",
    "qc_psiminus.cx(0,1)\n",
    "\n",
    "\n",
    "display(qc_psiminus.draw(output='mpl'))"
   ]
  },
  {
   "cell_type": "code",
   "execution_count": 9,
   "id": "616c9f7d-5c80-44c0-8abb-38bf70c656ec",
   "metadata": {
    "tags": []
   },
   "outputs": [
    {
     "name": "stdout",
     "output_type": "stream",
     "text": [
      "Statevector:\n",
      "Statevector([ 0.        +0.00000000e+00j, -0.70710678-8.65956056e-17j,\n",
      "              0.70710678+0.00000000e+00j,  0.        +0.00000000e+00j],\n",
      "            dims=(2, 2))\n"
     ]
    }
   ],
   "source": [
    "simulator = Aer.get_backend('statevector_simulator')\n",
    "job = execute(qc_psiminus, simulator)\n",
    "result = job.result()\n",
    "statevector = result.get_statevector()\n",
    "# Print the statevector\n",
    "print(\"Statevector:\")\n",
    "print(statevector)"
   ]
  }
 ],
 "metadata": {
  "kernelspec": {
   "display_name": "Python 3 (ipykernel)",
   "language": "python",
   "name": "python3"
  },
  "language_info": {
   "codemirror_mode": {
    "name": "ipython",
    "version": 3
   },
   "file_extension": ".py",
   "mimetype": "text/x-python",
   "name": "python",
   "nbconvert_exporter": "python",
   "pygments_lexer": "ipython3",
   "version": "3.10.8"
  },
  "widgets": {
   "application/vnd.jupyter.widget-state+json": {
    "state": {},
    "version_major": 2,
    "version_minor": 0
   }
  }
 },
 "nbformat": 4,
 "nbformat_minor": 5
}
